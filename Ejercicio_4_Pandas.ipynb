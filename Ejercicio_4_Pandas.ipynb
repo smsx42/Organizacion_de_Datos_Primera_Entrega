{
  "cells": [
    {
      "cell_type": "markdown",
      "metadata": {
        "id": "VN_mK6L6tRU9"
      },
      "source": [
        "Para los contenidos geolocalizados: ¿Cúal es el contenido más cercano del que fue editado más recientemente? ¿Y la diferencia entre sus tiempos de edición? (⭐⭐⭐)"
      ]
    },
    {
      "cell_type": "code",
      "execution_count": null,
      "metadata": {
        "id": "kuNPnog0tN_w"
      },
      "outputs": [],
      "source": [
        "import pandas as pd\n",
        "from datetime import datetime\n",
        "import datetime as dt\n",
        "import numpy as np"
      ]
    },
    {
      "cell_type": "code",
      "execution_count": null,
      "metadata": {
        "id": "o9bk4xcXy7fA"
      },
      "outputs": [],
      "source": [
        "contenido_geografico = pd.read_csv(\"/content/drive/MyDrive/geo_tags.csv\")\n",
        "contenido_paginas = pd.read_csv(\"/content/drive/MyDrive/contents.csv\")"
      ]
    },
    {
      "cell_type": "code",
      "execution_count": null,
      "metadata": {
        "colab": {
          "base_uri": "https://localhost:8080/",
          "height": 424
        },
        "id": "k_1c3heIG3NN",
        "outputId": "c678a740-df5c-48dc-deaf-c6e005279782"
      },
      "outputs": [
        {
          "data": {
            "text/html": [
              "\n",
              "\n",
              "  <div id=\"df-c2f88b74-c3a2-434d-9025-a577d25250b4\">\n",
              "    <div class=\"colab-df-container\">\n",
              "      <div>\n",
              "<style scoped>\n",
              "    .dataframe tbody tr th:only-of-type {\n",
              "        vertical-align: middle;\n",
              "    }\n",
              "\n",
              "    .dataframe tbody tr th {\n",
              "        vertical-align: top;\n",
              "    }\n",
              "\n",
              "    .dataframe thead th {\n",
              "        text-align: right;\n",
              "    }\n",
              "</style>\n",
              "<table border=\"1\" class=\"dataframe\">\n",
              "  <thead>\n",
              "    <tr style=\"text-align: right;\">\n",
              "      <th></th>\n",
              "      <th>gt_id</th>\n",
              "      <th>gt_page_id</th>\n",
              "      <th>gt_globe</th>\n",
              "      <th>gt_primary</th>\n",
              "      <th>gt_lat</th>\n",
              "      <th>gt_lon</th>\n",
              "      <th>gt_dim</th>\n",
              "      <th>gt_type</th>\n",
              "      <th>gt_name</th>\n",
              "      <th>gt_country</th>\n",
              "      <th>gt_region</th>\n",
              "    </tr>\n",
              "  </thead>\n",
              "  <tbody>\n",
              "    <tr>\n",
              "      <th>0</th>\n",
              "      <td>158041</td>\n",
              "      <td>4328020</td>\n",
              "      <td>earth</td>\n",
              "      <td>0</td>\n",
              "      <td>41.507500</td>\n",
              "      <td>-5.817500</td>\n",
              "      <td>1000</td>\n",
              "      <td>NaN</td>\n",
              "      <td>NaN</td>\n",
              "      <td>NaN</td>\n",
              "      <td>NaN</td>\n",
              "    </tr>\n",
              "    <tr>\n",
              "      <th>1</th>\n",
              "      <td>5844377</td>\n",
              "      <td>4670424</td>\n",
              "      <td>earth</td>\n",
              "      <td>0</td>\n",
              "      <td>13.738000</td>\n",
              "      <td>-89.292000</td>\n",
              "      <td>10000</td>\n",
              "      <td>city</td>\n",
              "      <td>NaN</td>\n",
              "      <td>NaN</td>\n",
              "      <td>NaN</td>\n",
              "    </tr>\n",
              "    <tr>\n",
              "      <th>2</th>\n",
              "      <td>5844381</td>\n",
              "      <td>4670424</td>\n",
              "      <td>earth</td>\n",
              "      <td>0</td>\n",
              "      <td>13.702000</td>\n",
              "      <td>-89.208000</td>\n",
              "      <td>10000</td>\n",
              "      <td>city</td>\n",
              "      <td>NaN</td>\n",
              "      <td>NaN</td>\n",
              "      <td>NaN</td>\n",
              "    </tr>\n",
              "    <tr>\n",
              "      <th>3</th>\n",
              "      <td>5844383</td>\n",
              "      <td>4670424</td>\n",
              "      <td>earth</td>\n",
              "      <td>0</td>\n",
              "      <td>13.400000</td>\n",
              "      <td>-89.750000</td>\n",
              "      <td>10000</td>\n",
              "      <td>city</td>\n",
              "      <td>NaN</td>\n",
              "      <td>NaN</td>\n",
              "      <td>NaN</td>\n",
              "    </tr>\n",
              "    <tr>\n",
              "      <th>4</th>\n",
              "      <td>5844388</td>\n",
              "      <td>4670424</td>\n",
              "      <td>earth</td>\n",
              "      <td>0</td>\n",
              "      <td>12.850000</td>\n",
              "      <td>-88.000000</td>\n",
              "      <td>10000</td>\n",
              "      <td>city</td>\n",
              "      <td>NaN</td>\n",
              "      <td>NaN</td>\n",
              "      <td>NaN</td>\n",
              "    </tr>\n",
              "    <tr>\n",
              "      <th>...</th>\n",
              "      <td>...</td>\n",
              "      <td>...</td>\n",
              "      <td>...</td>\n",
              "      <td>...</td>\n",
              "      <td>...</td>\n",
              "      <td>...</td>\n",
              "      <td>...</td>\n",
              "      <td>...</td>\n",
              "      <td>...</td>\n",
              "      <td>...</td>\n",
              "      <td>...</td>\n",
              "    </tr>\n",
              "    <tr>\n",
              "      <th>556388</th>\n",
              "      <td>136672179</td>\n",
              "      <td>5239183</td>\n",
              "      <td>earth</td>\n",
              "      <td>0</td>\n",
              "      <td>3.450000</td>\n",
              "      <td>-76.533333</td>\n",
              "      <td>1000</td>\n",
              "      <td>NaN</td>\n",
              "      <td>NaN</td>\n",
              "      <td>NaN</td>\n",
              "      <td>NaN</td>\n",
              "    </tr>\n",
              "    <tr>\n",
              "      <th>556389</th>\n",
              "      <td>136672180</td>\n",
              "      <td>104468</td>\n",
              "      <td>earth</td>\n",
              "      <td>1</td>\n",
              "      <td>30.815839</td>\n",
              "      <td>45.996069</td>\n",
              "      <td>1000</td>\n",
              "      <td>NaN</td>\n",
              "      <td>NaN</td>\n",
              "      <td>NaN</td>\n",
              "      <td>NaN</td>\n",
              "    </tr>\n",
              "    <tr>\n",
              "      <th>556390</th>\n",
              "      <td>136672181</td>\n",
              "      <td>968281</td>\n",
              "      <td>earth</td>\n",
              "      <td>1</td>\n",
              "      <td>46.953333</td>\n",
              "      <td>6.256944</td>\n",
              "      <td>10000</td>\n",
              "      <td>city</td>\n",
              "      <td>NaN</td>\n",
              "      <td>NaN</td>\n",
              "      <td>NaN</td>\n",
              "    </tr>\n",
              "    <tr>\n",
              "      <th>556391</th>\n",
              "      <td>136672182</td>\n",
              "      <td>79985</td>\n",
              "      <td>earth</td>\n",
              "      <td>0</td>\n",
              "      <td>45.109659</td>\n",
              "      <td>7.641221</td>\n",
              "      <td>500</td>\n",
              "      <td>NaN</td>\n",
              "      <td>NaN</td>\n",
              "      <td>NaN</td>\n",
              "      <td>NaN</td>\n",
              "    </tr>\n",
              "    <tr>\n",
              "      <th>556392</th>\n",
              "      <td>136672183</td>\n",
              "      <td>872296</td>\n",
              "      <td>earth</td>\n",
              "      <td>1</td>\n",
              "      <td>15.425675</td>\n",
              "      <td>-90.326285</td>\n",
              "      <td>10000</td>\n",
              "      <td>city</td>\n",
              "      <td>NaN</td>\n",
              "      <td>NaN</td>\n",
              "      <td>NaN</td>\n",
              "    </tr>\n",
              "  </tbody>\n",
              "</table>\n",
              "<p>556393 rows × 11 columns</p>\n",
              "</div>\n",
              "      <button class=\"colab-df-convert\" onclick=\"convertToInteractive('df-c2f88b74-c3a2-434d-9025-a577d25250b4')\"\n",
              "              title=\"Convert this dataframe to an interactive table.\"\n",
              "              style=\"display:none;\">\n",
              "\n",
              "  <svg xmlns=\"http://www.w3.org/2000/svg\" height=\"24px\"viewBox=\"0 0 24 24\"\n",
              "       width=\"24px\">\n",
              "    <path d=\"M0 0h24v24H0V0z\" fill=\"none\"/>\n",
              "    <path d=\"M18.56 5.44l.94 2.06.94-2.06 2.06-.94-2.06-.94-.94-2.06-.94 2.06-2.06.94zm-11 1L8.5 8.5l.94-2.06 2.06-.94-2.06-.94L8.5 2.5l-.94 2.06-2.06.94zm10 10l.94 2.06.94-2.06 2.06-.94-2.06-.94-.94-2.06-.94 2.06-2.06.94z\"/><path d=\"M17.41 7.96l-1.37-1.37c-.4-.4-.92-.59-1.43-.59-.52 0-1.04.2-1.43.59L10.3 9.45l-7.72 7.72c-.78.78-.78 2.05 0 2.83L4 21.41c.39.39.9.59 1.41.59.51 0 1.02-.2 1.41-.59l7.78-7.78 2.81-2.81c.8-.78.8-2.07 0-2.86zM5.41 20L4 18.59l7.72-7.72 1.47 1.35L5.41 20z\"/>\n",
              "  </svg>\n",
              "      </button>\n",
              "\n",
              "\n",
              "\n",
              "    <div id=\"df-616141fb-f2c0-45de-a0f9-64916be923ca\">\n",
              "      <button class=\"colab-df-quickchart\" onclick=\"quickchart('df-616141fb-f2c0-45de-a0f9-64916be923ca')\"\n",
              "              title=\"Suggest charts.\"\n",
              "              style=\"display:none;\">\n",
              "\n",
              "<svg xmlns=\"http://www.w3.org/2000/svg\" height=\"24px\"viewBox=\"0 0 24 24\"\n",
              "     width=\"24px\">\n",
              "    <g>\n",
              "        <path d=\"M19 3H5c-1.1 0-2 .9-2 2v14c0 1.1.9 2 2 2h14c1.1 0 2-.9 2-2V5c0-1.1-.9-2-2-2zM9 17H7v-7h2v7zm4 0h-2V7h2v10zm4 0h-2v-4h2v4z\"/>\n",
              "    </g>\n",
              "</svg>\n",
              "      </button>\n",
              "    </div>\n",
              "\n",
              "<style>\n",
              "  .colab-df-quickchart {\n",
              "    background-color: #E8F0FE;\n",
              "    border: none;\n",
              "    border-radius: 50%;\n",
              "    cursor: pointer;\n",
              "    display: none;\n",
              "    fill: #1967D2;\n",
              "    height: 32px;\n",
              "    padding: 0 0 0 0;\n",
              "    width: 32px;\n",
              "  }\n",
              "\n",
              "  .colab-df-quickchart:hover {\n",
              "    background-color: #E2EBFA;\n",
              "    box-shadow: 0px 1px 2px rgba(60, 64, 67, 0.3), 0px 1px 3px 1px rgba(60, 64, 67, 0.15);\n",
              "    fill: #174EA6;\n",
              "  }\n",
              "\n",
              "  [theme=dark] .colab-df-quickchart {\n",
              "    background-color: #3B4455;\n",
              "    fill: #D2E3FC;\n",
              "  }\n",
              "\n",
              "  [theme=dark] .colab-df-quickchart:hover {\n",
              "    background-color: #434B5C;\n",
              "    box-shadow: 0px 1px 3px 1px rgba(0, 0, 0, 0.15);\n",
              "    filter: drop-shadow(0px 1px 2px rgba(0, 0, 0, 0.3));\n",
              "    fill: #FFFFFF;\n",
              "  }\n",
              "</style>\n",
              "\n",
              "    <script>\n",
              "      async function quickchart(key) {\n",
              "        const containerElement = document.querySelector('#' + key);\n",
              "        const charts = await google.colab.kernel.invokeFunction(\n",
              "            'suggestCharts', [key], {});\n",
              "      }\n",
              "    </script>\n",
              "\n",
              "      <script>\n",
              "\n",
              "function displayQuickchartButton(domScope) {\n",
              "  let quickchartButtonEl =\n",
              "    domScope.querySelector('#df-616141fb-f2c0-45de-a0f9-64916be923ca button.colab-df-quickchart');\n",
              "  quickchartButtonEl.style.display =\n",
              "    google.colab.kernel.accessAllowed ? 'block' : 'none';\n",
              "}\n",
              "\n",
              "        displayQuickchartButton(document);\n",
              "      </script>\n",
              "      <style>\n",
              "    .colab-df-container {\n",
              "      display:flex;\n",
              "      flex-wrap:wrap;\n",
              "      gap: 12px;\n",
              "    }\n",
              "\n",
              "    .colab-df-convert {\n",
              "      background-color: #E8F0FE;\n",
              "      border: none;\n",
              "      border-radius: 50%;\n",
              "      cursor: pointer;\n",
              "      display: none;\n",
              "      fill: #1967D2;\n",
              "      height: 32px;\n",
              "      padding: 0 0 0 0;\n",
              "      width: 32px;\n",
              "    }\n",
              "\n",
              "    .colab-df-convert:hover {\n",
              "      background-color: #E2EBFA;\n",
              "      box-shadow: 0px 1px 2px rgba(60, 64, 67, 0.3), 0px 1px 3px 1px rgba(60, 64, 67, 0.15);\n",
              "      fill: #174EA6;\n",
              "    }\n",
              "\n",
              "    [theme=dark] .colab-df-convert {\n",
              "      background-color: #3B4455;\n",
              "      fill: #D2E3FC;\n",
              "    }\n",
              "\n",
              "    [theme=dark] .colab-df-convert:hover {\n",
              "      background-color: #434B5C;\n",
              "      box-shadow: 0px 1px 3px 1px rgba(0, 0, 0, 0.15);\n",
              "      filter: drop-shadow(0px 1px 2px rgba(0, 0, 0, 0.3));\n",
              "      fill: #FFFFFF;\n",
              "    }\n",
              "  </style>\n",
              "\n",
              "      <script>\n",
              "        const buttonEl =\n",
              "          document.querySelector('#df-c2f88b74-c3a2-434d-9025-a577d25250b4 button.colab-df-convert');\n",
              "        buttonEl.style.display =\n",
              "          google.colab.kernel.accessAllowed ? 'block' : 'none';\n",
              "\n",
              "        async function convertToInteractive(key) {\n",
              "          const element = document.querySelector('#df-c2f88b74-c3a2-434d-9025-a577d25250b4');\n",
              "          const dataTable =\n",
              "            await google.colab.kernel.invokeFunction('convertToInteractive',\n",
              "                                                     [key], {});\n",
              "          if (!dataTable) return;\n",
              "\n",
              "          const docLinkHtml = 'Like what you see? Visit the ' +\n",
              "            '<a target=\"_blank\" href=https://colab.research.google.com/notebooks/data_table.ipynb>data table notebook</a>'\n",
              "            + ' to learn more about interactive tables.';\n",
              "          element.innerHTML = '';\n",
              "          dataTable['output_type'] = 'display_data';\n",
              "          await google.colab.output.renderOutput(dataTable, element);\n",
              "          const docLink = document.createElement('div');\n",
              "          docLink.innerHTML = docLinkHtml;\n",
              "          element.appendChild(docLink);\n",
              "        }\n",
              "      </script>\n",
              "    </div>\n",
              "  </div>\n"
            ],
            "text/plain": [
              "            gt_id  gt_page_id gt_globe  gt_primary     gt_lat     gt_lon  \\\n",
              "0          158041     4328020    earth           0  41.507500  -5.817500   \n",
              "1         5844377     4670424    earth           0  13.738000 -89.292000   \n",
              "2         5844381     4670424    earth           0  13.702000 -89.208000   \n",
              "3         5844383     4670424    earth           0  13.400000 -89.750000   \n",
              "4         5844388     4670424    earth           0  12.850000 -88.000000   \n",
              "...           ...         ...      ...         ...        ...        ...   \n",
              "556388  136672179     5239183    earth           0   3.450000 -76.533333   \n",
              "556389  136672180      104468    earth           1  30.815839  45.996069   \n",
              "556390  136672181      968281    earth           1  46.953333   6.256944   \n",
              "556391  136672182       79985    earth           0  45.109659   7.641221   \n",
              "556392  136672183      872296    earth           1  15.425675 -90.326285   \n",
              "\n",
              "        gt_dim gt_type gt_name gt_country gt_region  \n",
              "0         1000     NaN     NaN        NaN       NaN  \n",
              "1        10000    city     NaN        NaN       NaN  \n",
              "2        10000    city     NaN        NaN       NaN  \n",
              "3        10000    city     NaN        NaN       NaN  \n",
              "4        10000    city     NaN        NaN       NaN  \n",
              "...        ...     ...     ...        ...       ...  \n",
              "556388    1000     NaN     NaN        NaN       NaN  \n",
              "556389    1000     NaN     NaN        NaN       NaN  \n",
              "556390   10000    city     NaN        NaN       NaN  \n",
              "556391     500     NaN     NaN        NaN       NaN  \n",
              "556392   10000    city     NaN        NaN       NaN  \n",
              "\n",
              "[556393 rows x 11 columns]"
            ]
          },
          "execution_count": 3,
          "metadata": {},
          "output_type": "execute_result"
        }
      ],
      "source": [
        "contenido_geografico"
      ]
    },
    {
      "cell_type": "code",
      "execution_count": null,
      "metadata": {
        "colab": {
          "base_uri": "https://localhost:8080/",
          "height": 731
        },
        "id": "kAo08qYUG6gc",
        "outputId": "9442f24c-3dae-463c-ed22-74045600e33f"
      },
      "outputs": [
        {
          "data": {
            "text/html": [
              "\n",
              "\n",
              "  <div id=\"df-8b8cd2d7-e011-41ec-b1ce-19569014a46d\">\n",
              "    <div class=\"colab-df-container\">\n",
              "      <div>\n",
              "<style scoped>\n",
              "    .dataframe tbody tr th:only-of-type {\n",
              "        vertical-align: middle;\n",
              "    }\n",
              "\n",
              "    .dataframe tbody tr th {\n",
              "        vertical-align: top;\n",
              "    }\n",
              "\n",
              "    .dataframe thead th {\n",
              "        text-align: right;\n",
              "    }\n",
              "</style>\n",
              "<table border=\"1\" class=\"dataframe\">\n",
              "  <thead>\n",
              "    <tr style=\"text-align: right;\">\n",
              "      <th></th>\n",
              "      <th>title</th>\n",
              "      <th>id</th>\n",
              "      <th>namespace</th>\n",
              "      <th>revision_id</th>\n",
              "      <th>parent_revision</th>\n",
              "      <th>revision_timestamp</th>\n",
              "      <th>revisor_username</th>\n",
              "      <th>revisor_id</th>\n",
              "      <th>revisor_ip</th>\n",
              "      <th>revisor_comment</th>\n",
              "    </tr>\n",
              "  </thead>\n",
              "  <tbody>\n",
              "    <tr>\n",
              "      <th>0</th>\n",
              "      <td>Wikipedia:Artículos solicitados</td>\n",
              "      <td>5</td>\n",
              "      <td>4</td>\n",
              "      <td>132533307</td>\n",
              "      <td>132516631.0</td>\n",
              "      <td>2021-01-19T18:40:34Z</td>\n",
              "      <td>Metrónomo</td>\n",
              "      <td>1708233.0</td>\n",
              "      <td>NaN</td>\n",
              "      <td>Así esta mejor</td>\n",
              "    </tr>\n",
              "    <tr>\n",
              "      <th>1</th>\n",
              "      <td>Andorra</td>\n",
              "      <td>7</td>\n",
              "      <td>0</td>\n",
              "      <td>138035057</td>\n",
              "      <td>138027475.0</td>\n",
              "      <td>2021-08-31T18:27:01Z</td>\n",
              "      <td>NaN</td>\n",
              "      <td>NaN</td>\n",
              "      <td>2800:CD0:FC1B:A900:C5A4:9E81:7175:2ED2</td>\n",
              "      <td>Añadir contenido</td>\n",
              "    </tr>\n",
              "    <tr>\n",
              "      <th>2</th>\n",
              "      <td>Argentina</td>\n",
              "      <td>10</td>\n",
              "      <td>0</td>\n",
              "      <td>137966826</td>\n",
              "      <td>137825165.0</td>\n",
              "      <td>2021-08-28T17:17:54Z</td>\n",
              "      <td>Traitrich</td>\n",
              "      <td>4642283.0</td>\n",
              "      <td>NaN</td>\n",
              "      <td>Reemplazos con [[Usuario:Benjavalero/Replacer|...</td>\n",
              "    </tr>\n",
              "    <tr>\n",
              "      <th>3</th>\n",
              "      <td>Geografía de Andorra</td>\n",
              "      <td>15</td>\n",
              "      <td>0</td>\n",
              "      <td>137986788</td>\n",
              "      <td>133666383.0</td>\n",
              "      <td>2021-08-29T17:16:00Z</td>\n",
              "      <td>Lojwe</td>\n",
              "      <td>5338508.0</td>\n",
              "      <td>NaN</td>\n",
              "      <td>Reemplazos con [[Usuario:Benjavalero/Replacer|...</td>\n",
              "    </tr>\n",
              "    <tr>\n",
              "      <th>4</th>\n",
              "      <td>Demografía de Andorra</td>\n",
              "      <td>17</td>\n",
              "      <td>0</td>\n",
              "      <td>130869554</td>\n",
              "      <td>129413188.0</td>\n",
              "      <td>2020-11-12T19:56:15Z</td>\n",
              "      <td>Jialxv</td>\n",
              "      <td>3615366.0</td>\n",
              "      <td>NaN</td>\n",
              "      <td>Correcciones ortográficas con [[Usuario:Benjav...</td>\n",
              "    </tr>\n",
              "    <tr>\n",
              "      <th>...</th>\n",
              "      <td>...</td>\n",
              "      <td>...</td>\n",
              "      <td>...</td>\n",
              "      <td>...</td>\n",
              "      <td>...</td>\n",
              "      <td>...</td>\n",
              "      <td>...</td>\n",
              "      <td>...</td>\n",
              "      <td>...</td>\n",
              "      <td>...</td>\n",
              "    </tr>\n",
              "    <tr>\n",
              "      <th>4132159</th>\n",
              "      <td>Cruz nestoriana</td>\n",
              "      <td>10010593</td>\n",
              "      <td>0</td>\n",
              "      <td>138052016</td>\n",
              "      <td>138051910.0</td>\n",
              "      <td>2021-09-01T12:06:00Z</td>\n",
              "      <td>Copydays</td>\n",
              "      <td>474907.0</td>\n",
              "      <td>NaN</td>\n",
              "      <td>termino traducción y quito plantilla en desarr...</td>\n",
              "    </tr>\n",
              "    <tr>\n",
              "      <th>4132160</th>\n",
              "      <td>Manifestación del orgullo gay de 1977 en Barce...</td>\n",
              "      <td>10010595</td>\n",
              "      <td>0</td>\n",
              "      <td>138051859</td>\n",
              "      <td>NaN</td>\n",
              "      <td>2021-09-01T11:52:28Z</td>\n",
              "      <td>Crls9011</td>\n",
              "      <td>4032712.0</td>\n",
              "      <td>NaN</td>\n",
              "      <td>Crls9011 trasladó la página [[Manifestación de...</td>\n",
              "    </tr>\n",
              "    <tr>\n",
              "      <th>4132161</th>\n",
              "      <td>Rocasaurus</td>\n",
              "      <td>10010596</td>\n",
              "      <td>0</td>\n",
              "      <td>138051902</td>\n",
              "      <td>NaN</td>\n",
              "      <td>2021-09-01T11:57:06Z</td>\n",
              "      <td>Gabriel Solo</td>\n",
              "      <td>158577.0</td>\n",
              "      <td>NaN</td>\n",
              "      <td>Gabriel Solo trasladó la página [[Rocasaurus]]...</td>\n",
              "    </tr>\n",
              "    <tr>\n",
              "      <th>4132162</th>\n",
              "      <td>Medalla Conmemorativa del 50.º Aniversario de ...</td>\n",
              "      <td>10010598</td>\n",
              "      <td>0</td>\n",
              "      <td>138051961</td>\n",
              "      <td>NaN</td>\n",
              "      <td>2021-09-01T12:01:38Z</td>\n",
              "      <td>Términus</td>\n",
              "      <td>5429951.0</td>\n",
              "      <td>NaN</td>\n",
              "      <td>Términus trasladó la página [[Medalla Conmemor...</td>\n",
              "    </tr>\n",
              "    <tr>\n",
              "      <th>4132163</th>\n",
              "      <td>Fatikroy</td>\n",
              "      <td>10010600</td>\n",
              "      <td>0</td>\n",
              "      <td>138051985</td>\n",
              "      <td>138051982.0</td>\n",
              "      <td>2021-09-01T12:03:14Z</td>\n",
              "      <td>Carlukas</td>\n",
              "      <td>86975.0</td>\n",
              "      <td>NaN</td>\n",
              "      <td>Añadiendo la [[Categoría:Localidades de Tripur...</td>\n",
              "    </tr>\n",
              "  </tbody>\n",
              "</table>\n",
              "<p>4132164 rows × 10 columns</p>\n",
              "</div>\n",
              "      <button class=\"colab-df-convert\" onclick=\"convertToInteractive('df-8b8cd2d7-e011-41ec-b1ce-19569014a46d')\"\n",
              "              title=\"Convert this dataframe to an interactive table.\"\n",
              "              style=\"display:none;\">\n",
              "\n",
              "  <svg xmlns=\"http://www.w3.org/2000/svg\" height=\"24px\"viewBox=\"0 0 24 24\"\n",
              "       width=\"24px\">\n",
              "    <path d=\"M0 0h24v24H0V0z\" fill=\"none\"/>\n",
              "    <path d=\"M18.56 5.44l.94 2.06.94-2.06 2.06-.94-2.06-.94-.94-2.06-.94 2.06-2.06.94zm-11 1L8.5 8.5l.94-2.06 2.06-.94-2.06-.94L8.5 2.5l-.94 2.06-2.06.94zm10 10l.94 2.06.94-2.06 2.06-.94-2.06-.94-.94-2.06-.94 2.06-2.06.94z\"/><path d=\"M17.41 7.96l-1.37-1.37c-.4-.4-.92-.59-1.43-.59-.52 0-1.04.2-1.43.59L10.3 9.45l-7.72 7.72c-.78.78-.78 2.05 0 2.83L4 21.41c.39.39.9.59 1.41.59.51 0 1.02-.2 1.41-.59l7.78-7.78 2.81-2.81c.8-.78.8-2.07 0-2.86zM5.41 20L4 18.59l7.72-7.72 1.47 1.35L5.41 20z\"/>\n",
              "  </svg>\n",
              "      </button>\n",
              "\n",
              "\n",
              "\n",
              "    <div id=\"df-feb7d2ea-e37f-4c32-8739-1239a785699d\">\n",
              "      <button class=\"colab-df-quickchart\" onclick=\"quickchart('df-feb7d2ea-e37f-4c32-8739-1239a785699d')\"\n",
              "              title=\"Suggest charts.\"\n",
              "              style=\"display:none;\">\n",
              "\n",
              "<svg xmlns=\"http://www.w3.org/2000/svg\" height=\"24px\"viewBox=\"0 0 24 24\"\n",
              "     width=\"24px\">\n",
              "    <g>\n",
              "        <path d=\"M19 3H5c-1.1 0-2 .9-2 2v14c0 1.1.9 2 2 2h14c1.1 0 2-.9 2-2V5c0-1.1-.9-2-2-2zM9 17H7v-7h2v7zm4 0h-2V7h2v10zm4 0h-2v-4h2v4z\"/>\n",
              "    </g>\n",
              "</svg>\n",
              "      </button>\n",
              "    </div>\n",
              "\n",
              "<style>\n",
              "  .colab-df-quickchart {\n",
              "    background-color: #E8F0FE;\n",
              "    border: none;\n",
              "    border-radius: 50%;\n",
              "    cursor: pointer;\n",
              "    display: none;\n",
              "    fill: #1967D2;\n",
              "    height: 32px;\n",
              "    padding: 0 0 0 0;\n",
              "    width: 32px;\n",
              "  }\n",
              "\n",
              "  .colab-df-quickchart:hover {\n",
              "    background-color: #E2EBFA;\n",
              "    box-shadow: 0px 1px 2px rgba(60, 64, 67, 0.3), 0px 1px 3px 1px rgba(60, 64, 67, 0.15);\n",
              "    fill: #174EA6;\n",
              "  }\n",
              "\n",
              "  [theme=dark] .colab-df-quickchart {\n",
              "    background-color: #3B4455;\n",
              "    fill: #D2E3FC;\n",
              "  }\n",
              "\n",
              "  [theme=dark] .colab-df-quickchart:hover {\n",
              "    background-color: #434B5C;\n",
              "    box-shadow: 0px 1px 3px 1px rgba(0, 0, 0, 0.15);\n",
              "    filter: drop-shadow(0px 1px 2px rgba(0, 0, 0, 0.3));\n",
              "    fill: #FFFFFF;\n",
              "  }\n",
              "</style>\n",
              "\n",
              "    <script>\n",
              "      async function quickchart(key) {\n",
              "        const containerElement = document.querySelector('#' + key);\n",
              "        const charts = await google.colab.kernel.invokeFunction(\n",
              "            'suggestCharts', [key], {});\n",
              "      }\n",
              "    </script>\n",
              "\n",
              "      <script>\n",
              "\n",
              "function displayQuickchartButton(domScope) {\n",
              "  let quickchartButtonEl =\n",
              "    domScope.querySelector('#df-feb7d2ea-e37f-4c32-8739-1239a785699d button.colab-df-quickchart');\n",
              "  quickchartButtonEl.style.display =\n",
              "    google.colab.kernel.accessAllowed ? 'block' : 'none';\n",
              "}\n",
              "\n",
              "        displayQuickchartButton(document);\n",
              "      </script>\n",
              "      <style>\n",
              "    .colab-df-container {\n",
              "      display:flex;\n",
              "      flex-wrap:wrap;\n",
              "      gap: 12px;\n",
              "    }\n",
              "\n",
              "    .colab-df-convert {\n",
              "      background-color: #E8F0FE;\n",
              "      border: none;\n",
              "      border-radius: 50%;\n",
              "      cursor: pointer;\n",
              "      display: none;\n",
              "      fill: #1967D2;\n",
              "      height: 32px;\n",
              "      padding: 0 0 0 0;\n",
              "      width: 32px;\n",
              "    }\n",
              "\n",
              "    .colab-df-convert:hover {\n",
              "      background-color: #E2EBFA;\n",
              "      box-shadow: 0px 1px 2px rgba(60, 64, 67, 0.3), 0px 1px 3px 1px rgba(60, 64, 67, 0.15);\n",
              "      fill: #174EA6;\n",
              "    }\n",
              "\n",
              "    [theme=dark] .colab-df-convert {\n",
              "      background-color: #3B4455;\n",
              "      fill: #D2E3FC;\n",
              "    }\n",
              "\n",
              "    [theme=dark] .colab-df-convert:hover {\n",
              "      background-color: #434B5C;\n",
              "      box-shadow: 0px 1px 3px 1px rgba(0, 0, 0, 0.15);\n",
              "      filter: drop-shadow(0px 1px 2px rgba(0, 0, 0, 0.3));\n",
              "      fill: #FFFFFF;\n",
              "    }\n",
              "  </style>\n",
              "\n",
              "      <script>\n",
              "        const buttonEl =\n",
              "          document.querySelector('#df-8b8cd2d7-e011-41ec-b1ce-19569014a46d button.colab-df-convert');\n",
              "        buttonEl.style.display =\n",
              "          google.colab.kernel.accessAllowed ? 'block' : 'none';\n",
              "\n",
              "        async function convertToInteractive(key) {\n",
              "          const element = document.querySelector('#df-8b8cd2d7-e011-41ec-b1ce-19569014a46d');\n",
              "          const dataTable =\n",
              "            await google.colab.kernel.invokeFunction('convertToInteractive',\n",
              "                                                     [key], {});\n",
              "          if (!dataTable) return;\n",
              "\n",
              "          const docLinkHtml = 'Like what you see? Visit the ' +\n",
              "            '<a target=\"_blank\" href=https://colab.research.google.com/notebooks/data_table.ipynb>data table notebook</a>'\n",
              "            + ' to learn more about interactive tables.';\n",
              "          element.innerHTML = '';\n",
              "          dataTable['output_type'] = 'display_data';\n",
              "          await google.colab.output.renderOutput(dataTable, element);\n",
              "          const docLink = document.createElement('div');\n",
              "          docLink.innerHTML = docLinkHtml;\n",
              "          element.appendChild(docLink);\n",
              "        }\n",
              "      </script>\n",
              "    </div>\n",
              "  </div>\n"
            ],
            "text/plain": [
              "                                                     title        id  \\\n",
              "0                          Wikipedia:Artículos solicitados         5   \n",
              "1                                                  Andorra         7   \n",
              "2                                                Argentina        10   \n",
              "3                                     Geografía de Andorra        15   \n",
              "4                                    Demografía de Andorra        17   \n",
              "...                                                    ...       ...   \n",
              "4132159                                    Cruz nestoriana  10010593   \n",
              "4132160  Manifestación del orgullo gay de 1977 en Barce...  10010595   \n",
              "4132161                                         Rocasaurus  10010596   \n",
              "4132162  Medalla Conmemorativa del 50.º Aniversario de ...  10010598   \n",
              "4132163                                           Fatikroy  10010600   \n",
              "\n",
              "         namespace  revision_id  parent_revision    revision_timestamp  \\\n",
              "0                4    132533307      132516631.0  2021-01-19T18:40:34Z   \n",
              "1                0    138035057      138027475.0  2021-08-31T18:27:01Z   \n",
              "2                0    137966826      137825165.0  2021-08-28T17:17:54Z   \n",
              "3                0    137986788      133666383.0  2021-08-29T17:16:00Z   \n",
              "4                0    130869554      129413188.0  2020-11-12T19:56:15Z   \n",
              "...            ...          ...              ...                   ...   \n",
              "4132159          0    138052016      138051910.0  2021-09-01T12:06:00Z   \n",
              "4132160          0    138051859              NaN  2021-09-01T11:52:28Z   \n",
              "4132161          0    138051902              NaN  2021-09-01T11:57:06Z   \n",
              "4132162          0    138051961              NaN  2021-09-01T12:01:38Z   \n",
              "4132163          0    138051985      138051982.0  2021-09-01T12:03:14Z   \n",
              "\n",
              "        revisor_username  revisor_id                              revisor_ip  \\\n",
              "0              Metrónomo   1708233.0                                     NaN   \n",
              "1                    NaN         NaN  2800:CD0:FC1B:A900:C5A4:9E81:7175:2ED2   \n",
              "2              Traitrich   4642283.0                                     NaN   \n",
              "3                  Lojwe   5338508.0                                     NaN   \n",
              "4                 Jialxv   3615366.0                                     NaN   \n",
              "...                  ...         ...                                     ...   \n",
              "4132159         Copydays    474907.0                                     NaN   \n",
              "4132160         Crls9011   4032712.0                                     NaN   \n",
              "4132161     Gabriel Solo    158577.0                                     NaN   \n",
              "4132162         Términus   5429951.0                                     NaN   \n",
              "4132163         Carlukas     86975.0                                     NaN   \n",
              "\n",
              "                                           revisor_comment  \n",
              "0                                           Así esta mejor  \n",
              "1                                         Añadir contenido  \n",
              "2        Reemplazos con [[Usuario:Benjavalero/Replacer|...  \n",
              "3        Reemplazos con [[Usuario:Benjavalero/Replacer|...  \n",
              "4        Correcciones ortográficas con [[Usuario:Benjav...  \n",
              "...                                                    ...  \n",
              "4132159  termino traducción y quito plantilla en desarr...  \n",
              "4132160  Crls9011 trasladó la página [[Manifestación de...  \n",
              "4132161  Gabriel Solo trasladó la página [[Rocasaurus]]...  \n",
              "4132162  Términus trasladó la página [[Medalla Conmemor...  \n",
              "4132163  Añadiendo la [[Categoría:Localidades de Tripur...  \n",
              "\n",
              "[4132164 rows x 10 columns]"
            ]
          },
          "execution_count": 4,
          "metadata": {},
          "output_type": "execute_result"
        }
      ],
      "source": [
        "contenido_paginas"
      ]
    },
    {
      "cell_type": "markdown",
      "metadata": {
        "id": "VoNNUSY5XYuD"
      },
      "source": [
        "Elimino las columnas que se que no voy a usar en ambos"
      ]
    },
    {
      "cell_type": "code",
      "execution_count": null,
      "metadata": {
        "id": "lKzT7ur5ncVC"
      },
      "outputs": [],
      "source": [
        "contenido_geografico = contenido_geografico.drop(\"gt_globe\", axis=1)\n",
        "contenido_geografico = contenido_geografico.drop(\"gt_primary\", axis=1)\n",
        "contenido_geografico = contenido_geografico.drop(\"gt_dim\", axis=1)\n",
        "contenido_geografico = contenido_geografico.drop(\"gt_type\", axis=1)\n",
        "contenido_geografico = contenido_geografico.drop(\"gt_name\", axis=1)\n",
        "contenido_geografico = contenido_geografico.drop(\"gt_region\", axis=1)\n",
        "contenido_geografico = contenido_geografico.drop(\"gt_country\", axis=1)\n",
        "contenido_geografico = contenido_geografico.drop(\"gt_id\", axis=1)"
      ]
    },
    {
      "cell_type": "code",
      "execution_count": null,
      "metadata": {
        "colab": {
          "background_save": true
        },
        "id": "X9TNsyqKo1tj"
      },
      "outputs": [],
      "source": [
        "contenido_paginas = contenido_paginas.drop(\"namespace\", axis=1)\n",
        "contenido_paginas = contenido_paginas.drop(\"parent_revision\", axis=1)\n",
        "contenido_paginas = contenido_paginas.drop(\"revisor_username\", axis=1)\n",
        "contenido_paginas = contenido_paginas.drop(\"revisor_id\", axis=1)\n",
        "contenido_paginas = contenido_paginas.drop(\"revisor_ip\", axis=1)\n",
        "contenido_paginas = contenido_paginas.drop(\"revisor_comment\", axis=1)\n",
        "contenido_paginas = contenido_paginas.drop(\"revision_id\", axis=1)"
      ]
    },
    {
      "cell_type": "markdown",
      "metadata": {
        "id": "3DbTSVHM-XvB"
      },
      "source": [
        "Realizo el merge por gt_page_id de contenido_geografico e id de contenido_paginas."
      ]
    },
    {
      "cell_type": "code",
      "execution_count": null,
      "metadata": {
        "id": "a7raDofADrtc"
      },
      "outputs": [],
      "source": [
        "contenidos_totales = pd.merge(contenido_geografico, contenido_paginas, left_on = \"gt_page_id\", right_on = \"id\")"
      ]
    },
    {
      "cell_type": "markdown",
      "metadata": {
        "id": "PoW0PtQd0WlK"
      },
      "source": [
        "Elimino las filas del merge cuyo gt_page_id se repite, salvo la primera ocurrencia."
      ]
    },
    {
      "cell_type": "code",
      "execution_count": null,
      "metadata": {
        "id": "ijLlDkUN0Svr"
      },
      "outputs": [],
      "source": [
        "contenidos_totales = contenidos_totales.drop_duplicates(['gt_page_id'], keep = \"first\")"
      ]
    },
    {
      "cell_type": "code",
      "execution_count": null,
      "metadata": {
        "id": "26QvfZzW2lUz"
      },
      "outputs": [],
      "source": [
        "contenidos_totales = contenidos_totales.reset_index()\n",
        "contenidos_totales = contenidos_totales.drop(\"index\", axis=1)"
      ]
    },
    {
      "cell_type": "markdown",
      "metadata": {
        "id": "Z7AHd2q7qbkV"
      },
      "source": [
        "Paso el tiempo de revision_timestamp a otro formato para trbajarlo."
      ]
    },
    {
      "cell_type": "code",
      "execution_count": null,
      "metadata": {
        "id": "NGyLx38AqLeJ"
      },
      "outputs": [],
      "source": [
        "contenidos_totales.revision_timestamp = contenidos_totales.revision_timestamp.replace({'Z':''}, regex=True)"
      ]
    },
    {
      "cell_type": "code",
      "execution_count": null,
      "metadata": {
        "id": "i6Cj6zlZslqx"
      },
      "outputs": [],
      "source": [
        "contenidos_totales.revision_timestamp =  contenidos_totales.revision_timestamp.map(lambda fila: datetime.fromisoformat(fila))"
      ]
    },
    {
      "cell_type": "markdown",
      "metadata": {
        "id": "IVxT28jdYLhJ"
      },
      "source": [
        "Guardo el ultimo tiempo de edicion y creo un df con los contenidos que tienen el tiempo maximo."
      ]
    },
    {
      "cell_type": "code",
      "execution_count": null,
      "metadata": {
        "id": "I6QueabK_mhc"
      },
      "outputs": [],
      "source": [
        "tiempo_maximo = contenidos_totales.revision_timestamp.max()"
      ]
    },
    {
      "cell_type": "code",
      "execution_count": null,
      "metadata": {
        "id": "Lni-FdhqUgde"
      },
      "outputs": [],
      "source": [
        "df_tiempos_maximos = contenidos_totales[contenidos_totales.revision_timestamp == tiempo_maximo]"
      ]
    },
    {
      "cell_type": "code",
      "execution_count": null,
      "metadata": {
        "id": "hhcrWteZ5Non"
      },
      "outputs": [],
      "source": [
        "df_tiempos_maximos = df_tiempos_maximos.reset_index()\n",
        "df_tiempos_maximos = df_tiempos_maximos.drop(\"index\", axis=1)"
      ]
    },
    {
      "cell_type": "markdown",
      "metadata": {
        "id": "S6-WPGef4sPf"
      },
      "source": [
        "Me quedo con la coordenada del que tenga el tiempo de revision mas reciente, y del primer elemento del df."
      ]
    },
    {
      "cell_type": "code",
      "execution_count": null,
      "metadata": {
        "id": "L0QfQ08IelZP"
      },
      "outputs": [],
      "source": [
        "coordenada_lat = df_tiempos_maximos.gt_lat.max()"
      ]
    },
    {
      "cell_type": "code",
      "execution_count": null,
      "metadata": {
        "id": "kxUdTSkOITC_"
      },
      "outputs": [],
      "source": [
        "coordenada_lon = df_tiempos_maximos.gt_lon.max()"
      ]
    },
    {
      "cell_type": "markdown",
      "metadata": {
        "id": "1dUXk8YZ53N7"
      },
      "source": [
        "Agrego una columna a contenidos_totales con las distancias mas cercanas al contenido con el tiempo de edicion mas reciente. Para ver la distancia, hago la norma entre coordenada_tm y la coordenada del contenido."
      ]
    },
    {
      "cell_type": "code",
      "execution_count": null,
      "metadata": {
        "id": "m9eb-H9ZUA3H"
      },
      "outputs": [],
      "source": [
        "def calcular_distancias():\n",
        "  distancia =  round(((coordenada_lat - contenidos_totales.gt_lat)**(2)+(coordenada_lon - contenidos_totales.gt_lon)**(2))**(0.5), 6)\n",
        "  return distancia\n"
      ]
    },
    {
      "cell_type": "code",
      "execution_count": null,
      "metadata": {
        "id": "7S67-3TOetzo"
      },
      "outputs": [],
      "source": [
        "contenidos_totales[\"distancias_cercanas\"] = calcular_distancias()"
      ]
    },
    {
      "cell_type": "markdown",
      "metadata": {
        "id": "0LbO4A7I8k1z"
      },
      "source": [
        "Filtro al elemtno con el tiempo de edicion mas reciente de contenidos totales, ya que su norma siempre es 0."
      ]
    },
    {
      "cell_type": "code",
      "execution_count": null,
      "metadata": {
        "id": "gQ4MDIds8vG5"
      },
      "outputs": [],
      "source": [
        "contenidos_totales = contenidos_totales[contenidos_totales.revision_timestamp != df_tiempos_maximos.revision_timestamp.max()]"
      ]
    },
    {
      "cell_type": "markdown",
      "metadata": {
        "id": "auiXPGLQZnKM"
      },
      "source": [
        "Veo cuales son los contenidos con las distancia mas cercana al del ultimo tiempo de edicion y calculo la diferencia entre los tiempos de edicion."
      ]
    },
    {
      "cell_type": "code",
      "execution_count": null,
      "metadata": {
        "id": "9ZEMC9NLpyLf"
      },
      "outputs": [],
      "source": [
        "distancia_minima = contenidos_totales.distancias_cercanas.min()"
      ]
    },
    {
      "cell_type": "code",
      "execution_count": null,
      "metadata": {
        "colab": {
          "base_uri": "https://localhost:8080/",
          "height": 81
        },
        "id": "KiGy_-6phdE0",
        "outputId": "ee90bab6-30c2-49aa-b6d3-070ce1c3fcbe"
      },
      "outputs": [
        {
          "data": {
            "text/html": [
              "\n",
              "  <div id=\"df-ce41dfd9-885c-4b0a-a8d4-a416688a0cdf\">\n",
              "    <div class=\"colab-df-container\">\n",
              "      <div>\n",
              "<style scoped>\n",
              "    .dataframe tbody tr th:only-of-type {\n",
              "        vertical-align: middle;\n",
              "    }\n",
              "\n",
              "    .dataframe tbody tr th {\n",
              "        vertical-align: top;\n",
              "    }\n",
              "\n",
              "    .dataframe thead th {\n",
              "        text-align: right;\n",
              "    }\n",
              "</style>\n",
              "<table border=\"1\" class=\"dataframe\">\n",
              "  <thead>\n",
              "    <tr style=\"text-align: right;\">\n",
              "      <th></th>\n",
              "      <th>gt_page_id</th>\n",
              "      <th>gt_lat</th>\n",
              "      <th>gt_lon</th>\n",
              "      <th>title</th>\n",
              "      <th>id</th>\n",
              "      <th>revision_timestamp</th>\n",
              "      <th>distancias_cercanas</th>\n",
              "    </tr>\n",
              "  </thead>\n",
              "  <tbody>\n",
              "    <tr>\n",
              "      <th>157898</th>\n",
              "      <td>6102755</td>\n",
              "      <td>42.599722</td>\n",
              "      <td>-6.725556</td>\n",
              "      <td>Batalla de Cacabelos</td>\n",
              "      <td>6102755</td>\n",
              "      <td>2021-04-14 18:33:45</td>\n",
              "      <td>0.0</td>\n",
              "    </tr>\n",
              "  </tbody>\n",
              "</table>\n",
              "</div>\n",
              "      <button class=\"colab-df-convert\" onclick=\"convertToInteractive('df-ce41dfd9-885c-4b0a-a8d4-a416688a0cdf')\"\n",
              "              title=\"Convert this dataframe to an interactive table.\"\n",
              "              style=\"display:none;\">\n",
              "        \n",
              "  <svg xmlns=\"http://www.w3.org/2000/svg\" height=\"24px\"viewBox=\"0 0 24 24\"\n",
              "       width=\"24px\">\n",
              "    <path d=\"M0 0h24v24H0V0z\" fill=\"none\"/>\n",
              "    <path d=\"M18.56 5.44l.94 2.06.94-2.06 2.06-.94-2.06-.94-.94-2.06-.94 2.06-2.06.94zm-11 1L8.5 8.5l.94-2.06 2.06-.94-2.06-.94L8.5 2.5l-.94 2.06-2.06.94zm10 10l.94 2.06.94-2.06 2.06-.94-2.06-.94-.94-2.06-.94 2.06-2.06.94z\"/><path d=\"M17.41 7.96l-1.37-1.37c-.4-.4-.92-.59-1.43-.59-.52 0-1.04.2-1.43.59L10.3 9.45l-7.72 7.72c-.78.78-.78 2.05 0 2.83L4 21.41c.39.39.9.59 1.41.59.51 0 1.02-.2 1.41-.59l7.78-7.78 2.81-2.81c.8-.78.8-2.07 0-2.86zM5.41 20L4 18.59l7.72-7.72 1.47 1.35L5.41 20z\"/>\n",
              "  </svg>\n",
              "      </button>\n",
              "      \n",
              "  <style>\n",
              "    .colab-df-container {\n",
              "      display:flex;\n",
              "      flex-wrap:wrap;\n",
              "      gap: 12px;\n",
              "    }\n",
              "\n",
              "    .colab-df-convert {\n",
              "      background-color: #E8F0FE;\n",
              "      border: none;\n",
              "      border-radius: 50%;\n",
              "      cursor: pointer;\n",
              "      display: none;\n",
              "      fill: #1967D2;\n",
              "      height: 32px;\n",
              "      padding: 0 0 0 0;\n",
              "      width: 32px;\n",
              "    }\n",
              "\n",
              "    .colab-df-convert:hover {\n",
              "      background-color: #E2EBFA;\n",
              "      box-shadow: 0px 1px 2px rgba(60, 64, 67, 0.3), 0px 1px 3px 1px rgba(60, 64, 67, 0.15);\n",
              "      fill: #174EA6;\n",
              "    }\n",
              "\n",
              "    [theme=dark] .colab-df-convert {\n",
              "      background-color: #3B4455;\n",
              "      fill: #D2E3FC;\n",
              "    }\n",
              "\n",
              "    [theme=dark] .colab-df-convert:hover {\n",
              "      background-color: #434B5C;\n",
              "      box-shadow: 0px 1px 3px 1px rgba(0, 0, 0, 0.15);\n",
              "      filter: drop-shadow(0px 1px 2px rgba(0, 0, 0, 0.3));\n",
              "      fill: #FFFFFF;\n",
              "    }\n",
              "  </style>\n",
              "\n",
              "      <script>\n",
              "        const buttonEl =\n",
              "          document.querySelector('#df-ce41dfd9-885c-4b0a-a8d4-a416688a0cdf button.colab-df-convert');\n",
              "        buttonEl.style.display =\n",
              "          google.colab.kernel.accessAllowed ? 'block' : 'none';\n",
              "\n",
              "        async function convertToInteractive(key) {\n",
              "          const element = document.querySelector('#df-ce41dfd9-885c-4b0a-a8d4-a416688a0cdf');\n",
              "          const dataTable =\n",
              "            await google.colab.kernel.invokeFunction('convertToInteractive',\n",
              "                                                     [key], {});\n",
              "          if (!dataTable) return;\n",
              "\n",
              "          const docLinkHtml = 'Like what you see? Visit the ' +\n",
              "            '<a target=\"_blank\" href=https://colab.research.google.com/notebooks/data_table.ipynb>data table notebook</a>'\n",
              "            + ' to learn more about interactive tables.';\n",
              "          element.innerHTML = '';\n",
              "          dataTable['output_type'] = 'display_data';\n",
              "          await google.colab.output.renderOutput(dataTable, element);\n",
              "          const docLink = document.createElement('div');\n",
              "          docLink.innerHTML = docLinkHtml;\n",
              "          element.appendChild(docLink);\n",
              "        }\n",
              "      </script>\n",
              "    </div>\n",
              "  </div>\n",
              "  "
            ],
            "text/plain": [
              "        gt_page_id     gt_lat    gt_lon                 title       id  \\\n",
              "157898     6102755  42.599722 -6.725556  Batalla de Cacabelos  6102755   \n",
              "\n",
              "        revision_timestamp  distancias_cercanas  \n",
              "157898 2021-04-14 18:33:45                  0.0  "
            ]
          },
          "execution_count": 20,
          "metadata": {},
          "output_type": "execute_result"
        }
      ],
      "source": [
        "contenidos_totales[(contenidos_totales.distancias_cercanas == distancia_minima)]"
      ]
    },
    {
      "cell_type": "code",
      "execution_count": null,
      "metadata": {
        "colab": {
          "base_uri": "https://localhost:8080/"
        },
        "id": "kPPULohLpU8t",
        "outputId": "6a60bf65-6db0-455f-fa64-efc6ad6c2f2f"
      },
      "outputs": [
        {
          "data": {
            "text/plain": [
              "157898    6102755\n",
              "Name: gt_page_id, dtype: int64"
            ]
          },
          "execution_count": 21,
          "metadata": {},
          "output_type": "execute_result"
        }
      ],
      "source": [
        "contenidos_totales[(contenidos_totales.distancias_cercanas == distancia_minima)].gt_page_id"
      ]
    },
    {
      "cell_type": "code",
      "execution_count": null,
      "metadata": {
        "id": "FsIHTpc-pqxD"
      },
      "outputs": [],
      "source": [
        "diferencia_tiempos_revision = df_tiempos_maximos.revision_timestamp.max() - contenidos_totales[(contenidos_totales.distancias_cercanas == distancia_minima)].revision_timestamp"
      ]
    },
    {
      "cell_type": "code",
      "execution_count": null,
      "metadata": {
        "colab": {
          "base_uri": "https://localhost:8080/"
        },
        "id": "tOKL8F9YZVSN",
        "outputId": "e4811b39-217e-4e2b-bdf8-77084a95f671"
      },
      "outputs": [
        {
          "data": {
            "text/plain": [
              "157898   139 days 19:28:35\n",
              "Name: revision_timestamp, dtype: timedelta64[ns]"
            ]
          },
          "execution_count": 23,
          "metadata": {},
          "output_type": "execute_result"
        }
      ],
      "source": [
        "diferencia_tiempos_revision"
      ]
    },
    {
      "cell_type": "code",
      "execution_count": null,
      "metadata": {
        "id": "b-oPpFgBhY83"
      },
      "outputs": [],
      "source": []
    }
  ],
  "metadata": {
    "colab": {
      "provenance": []
    },
    "kernelspec": {
      "display_name": "Python 3",
      "name": "python3"
    },
    "language_info": {
      "name": "python"
    }
  },
  "nbformat": 4,
  "nbformat_minor": 0
}