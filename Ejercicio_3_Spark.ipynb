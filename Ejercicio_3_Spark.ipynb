{
  "cells": [
    {
      "cell_type": "markdown",
      "metadata": {
        "id": "GfH06k90ac2S"
      },
      "source": [
        "El porcentaje de contenidos que están publicados cuya última edición no tiene comentario para los usuarios que realizaron 1, >10 y >100 de las últimas ediciones (⭐⭐)"
      ]
    },
    {
      "cell_type": "code",
      "execution_count": null,
      "metadata": {
        "colab": {
          "background_save": true,
          "base_uri": "https://localhost:8080/"
        },
        "id": "GXOw9NNTaW1C",
        "outputId": "b19e6929-a03b-4ae0-e4ce-56d2bbe051be"
      },
      "outputs": [
        {
          "name": "stdout",
          "output_type": "stream",
          "text": [
            "Collecting pyspark\n",
            "  Downloading pyspark-3.4.1.tar.gz (310.8 MB)\n",
            "\u001b[2K     \u001b[90m━━━━━━━━━━━━━━━━━━━━━━━━━━━━━━━━━━━━━━━\u001b[0m \u001b[32m310.8/310.8 MB\u001b[0m \u001b[31m3.6 MB/s\u001b[0m eta \u001b[36m0:00:00\u001b[0m\n",
            "\u001b[?25h  Preparing metadata (setup.py) ... \u001b[?25l\u001b[?25hdone\n",
            "Requirement already satisfied: py4j==0.10.9.7 in /usr/local/lib/python3.10/dist-packages (from pyspark) (0.10.9.7)\n",
            "Building wheels for collected packages: pyspark\n",
            "  Building wheel for pyspark (setup.py) ... \u001b[?25l\u001b[?25hdone\n",
            "  Created wheel for pyspark: filename=pyspark-3.4.1-py2.py3-none-any.whl size=311285398 sha256=498761b7a8b9c7b443f209781cf01fac691edfb845e26b22819f3331d649482b\n",
            "  Stored in directory: /root/.cache/pip/wheels/0d/77/a3/ff2f74cc9ab41f8f594dabf0579c2a7c6de920d584206e0834\n",
            "Successfully built pyspark\n",
            "Installing collected packages: pyspark\n",
            "Successfully installed pyspark-3.4.1\n",
            "Hit:1 http://archive.ubuntu.com/ubuntu focal InRelease\n",
            "Get:2 http://archive.ubuntu.com/ubuntu focal-updates InRelease [114 kB]\n",
            "Get:3 https://cloud.r-project.org/bin/linux/ubuntu focal-cran40/ InRelease [3,622 B]\n",
            "Hit:4 https://developer.download.nvidia.com/compute/cuda/repos/ubuntu2004/x86_64  InRelease\n",
            "Get:5 http://archive.ubuntu.com/ubuntu focal-backports InRelease [108 kB]\n",
            "Get:6 http://security.ubuntu.com/ubuntu focal-security InRelease [114 kB]\n",
            "Get:7 http://ppa.launchpad.net/c2d4u.team/c2d4u4.0+/ubuntu focal InRelease [18.1 kB]\n",
            "Get:8 https://cloud.r-project.org/bin/linux/ubuntu focal-cran40/ Packages [82.8 kB]\n",
            "Hit:9 http://ppa.launchpad.net/cran/libgit2/ubuntu focal InRelease\n",
            "Get:10 http://archive.ubuntu.com/ubuntu focal-updates/main amd64 Packages [3,346 kB]\n",
            "Get:11 http://archive.ubuntu.com/ubuntu focal-updates/restricted amd64 Packages [2,670 kB]\n",
            "Hit:12 http://ppa.launchpad.net/deadsnakes/ppa/ubuntu focal InRelease\n",
            "Get:13 http://archive.ubuntu.com/ubuntu focal-updates/universe amd64 Packages [1,369 kB]\n",
            "Get:14 http://archive.ubuntu.com/ubuntu focal-updates/multiverse amd64 Packages [40.2 kB]\n",
            "Hit:15 http://ppa.launchpad.net/graphics-drivers/ppa/ubuntu focal InRelease\n",
            "Hit:16 http://ppa.launchpad.net/ubuntugis/ppa/ubuntu focal InRelease\n",
            "Get:17 http://ppa.launchpad.net/c2d4u.team/c2d4u4.0+/ubuntu focal/main Sources [2,604 kB]\n",
            "Get:18 http://security.ubuntu.com/ubuntu focal-security/universe amd64 Packages [1,070 kB]\n",
            "Get:19 http://security.ubuntu.com/ubuntu focal-security/multiverse amd64 Packages [37.5 kB]\n",
            "Get:20 http://security.ubuntu.com/ubuntu focal-security/main amd64 Packages [2,866 kB]\n",
            "Get:21 http://security.ubuntu.com/ubuntu focal-security/restricted amd64 Packages [2,529 kB]\n",
            "Get:22 http://ppa.launchpad.net/c2d4u.team/c2d4u4.0+/ubuntu focal/main amd64 Packages [1,230 kB]\n",
            "Fetched 18.2 MB in 2s (8,080 kB/s)\n",
            "Reading package lists... Done\n",
            "Building dependency tree       \n",
            "Reading state information... Done\n",
            "25 packages can be upgraded. Run 'apt list --upgradable' to see them.\n",
            "The following additional packages will be installed:\n",
            "  libxtst6 openjdk-8-jre-headless\n",
            "Suggested packages:\n",
            "  openjdk-8-demo openjdk-8-source libnss-mdns fonts-dejavu-extra\n",
            "  fonts-ipafont-gothic fonts-ipafont-mincho fonts-wqy-microhei\n",
            "  fonts-wqy-zenhei fonts-indic\n",
            "The following NEW packages will be installed:\n",
            "  libxtst6 openjdk-8-jdk-headless openjdk-8-jre-headless\n",
            "0 upgraded, 3 newly installed, 0 to remove and 25 not upgraded.\n",
            "Need to get 36.5 MB of archives.\n",
            "After this operation, 144 MB of additional disk space will be used.\n",
            "Selecting previously unselected package libxtst6:amd64.\n",
            "(Reading database ... 123105 files and directories currently installed.)\n",
            "Preparing to unpack .../libxtst6_2%3a1.2.3-1_amd64.deb ...\n",
            "Unpacking libxtst6:amd64 (2:1.2.3-1) ...\n",
            "Selecting previously unselected package openjdk-8-jre-headless:amd64.\n",
            "Preparing to unpack .../openjdk-8-jre-headless_8u372-ga~us1-0ubuntu1~20.04_amd64.deb ...\n",
            "Unpacking openjdk-8-jre-headless:amd64 (8u372-ga~us1-0ubuntu1~20.04) ...\n",
            "Selecting previously unselected package openjdk-8-jdk-headless:amd64.\n",
            "Preparing to unpack .../openjdk-8-jdk-headless_8u372-ga~us1-0ubuntu1~20.04_amd64.deb ...\n",
            "Unpacking openjdk-8-jdk-headless:amd64 (8u372-ga~us1-0ubuntu1~20.04) ...\n",
            "Setting up libxtst6:amd64 (2:1.2.3-1) ...\n",
            "Setting up openjdk-8-jre-headless:amd64 (8u372-ga~us1-0ubuntu1~20.04) ...\n",
            "update-alternatives: using /usr/lib/jvm/java-8-openjdk-amd64/jre/bin/orbd to provide /usr/bin/orbd (orbd) in auto mode\n",
            "update-alternatives: using /usr/lib/jvm/java-8-openjdk-amd64/jre/bin/servertool to provide /usr/bin/servertool (servertool) in auto mode\n",
            "update-alternatives: using /usr/lib/jvm/java-8-openjdk-amd64/jre/bin/tnameserv to provide /usr/bin/tnameserv (tnameserv) in auto mode\n",
            "Setting up openjdk-8-jdk-headless:amd64 (8u372-ga~us1-0ubuntu1~20.04) ...\n",
            "update-alternatives: using /usr/lib/jvm/java-8-openjdk-amd64/bin/idlj to provide /usr/bin/idlj (idlj) in auto mode\n",
            "update-alternatives: using /usr/lib/jvm/java-8-openjdk-amd64/bin/wsimport to provide /usr/bin/wsimport (wsimport) in auto mode\n",
            "update-alternatives: using /usr/lib/jvm/java-8-openjdk-amd64/bin/jsadebugd to provide /usr/bin/jsadebugd (jsadebugd) in auto mode\n",
            "update-alternatives: using /usr/lib/jvm/java-8-openjdk-amd64/bin/native2ascii to provide /usr/bin/native2ascii (native2ascii) in auto mode\n",
            "update-alternatives: using /usr/lib/jvm/java-8-openjdk-amd64/bin/javah to provide /usr/bin/javah (javah) in auto mode\n",
            "update-alternatives: using /usr/lib/jvm/java-8-openjdk-amd64/bin/clhsdb to provide /usr/bin/clhsdb (clhsdb) in auto mode\n",
            "update-alternatives: using /usr/lib/jvm/java-8-openjdk-amd64/bin/jhat to provide /usr/bin/jhat (jhat) in auto mode\n",
            "update-alternatives: using /usr/lib/jvm/java-8-openjdk-amd64/bin/extcheck to provide /usr/bin/extcheck (extcheck) in auto mode\n",
            "update-alternatives: using /usr/lib/jvm/java-8-openjdk-amd64/bin/hsdb to provide /usr/bin/hsdb (hsdb) in auto mode\n",
            "update-alternatives: using /usr/lib/jvm/java-8-openjdk-amd64/bin/schemagen to provide /usr/bin/schemagen (schemagen) in auto mode\n",
            "update-alternatives: using /usr/lib/jvm/java-8-openjdk-amd64/bin/xjc to provide /usr/bin/xjc (xjc) in auto mode\n",
            "update-alternatives: using /usr/lib/jvm/java-8-openjdk-amd64/bin/wsgen to provide /usr/bin/wsgen (wsgen) in auto mode\n",
            "Processing triggers for libc-bin (2.31-0ubuntu9.9) ...\n"
          ]
        }
      ],
      "source": [
        "!pip install pyspark\n",
        "!pip install -U -q PyDrive\n",
        "!apt update\n",
        "!apt install openjdk-8-jdk-headless -qq\n",
        "#!apt install default-jre\n",
        "#!apt install default-jdk+\n",
        "import os\n",
        "os.environ[\"JAVA_HOME\"] = \"/usr/lib/jvm/java-8-openjdk-amd64\""
      ]
    },
    {
      "cell_type": "code",
      "execution_count": null,
      "metadata": {
        "id": "9SZG94oqauEi"
      },
      "outputs": [],
      "source": [
        "from pydrive.auth import GoogleAuth\n",
        "from pydrive.drive import GoogleDrive\n",
        "from google.colab import auth\n",
        "from oauth2client.client import GoogleCredentials\n",
        "from pyspark.sql import *\n",
        "from pyspark.sql.functions import *\n",
        "from pyspark import SparkContext\n",
        "from pyspark.sql import SQLContext"
      ]
    },
    {
      "cell_type": "code",
      "execution_count": null,
      "metadata": {
        "id": "6bK2i59Sa4O6"
      },
      "outputs": [],
      "source": [
        "auth.authenticate_user()\n",
        "gauth = GoogleAuth()\n",
        "gauth.credentials = GoogleCredentials.get_application_default()\n",
        "drive = GoogleDrive(gauth)"
      ]
    },
    {
      "cell_type": "code",
      "execution_count": null,
      "metadata": {
        "id": "ZGkX_YYLa9az"
      },
      "outputs": [],
      "source": [
        "spark = SparkSession.builder.getOrCreate()\n",
        "sc = spark.sparkContext"
      ]
    },
    {
      "cell_type": "code",
      "execution_count": null,
      "metadata": {
        "colab": {
          "base_uri": "https://localhost:8080/"
        },
        "id": "YvM4KRroa_Ra",
        "outputId": "801d8fa8-0f10-495d-cd5b-b31af141ed56"
      },
      "outputs": [
        {
          "name": "stderr",
          "output_type": "stream",
          "text": [
            "/usr/local/lib/python3.10/dist-packages/pyspark/sql/context.py:112: FutureWarning: Deprecated in 3.0.0. Use SparkSession.builder.getOrCreate() instead.\n",
            "  warnings.warn(\n"
          ]
        }
      ],
      "source": [
        "sqlContext = SQLContext(sc)\n",
        "df_contenido = sqlContext.read.csv('/content/drive/MyDrive/contents.csv', header=True, inferSchema=True, multiLine=True, escape='\"')\n",
        "rdd_contenido = df_contenido.rdd"
      ]
    },
    {
      "cell_type": "markdown",
      "metadata": {
        "id": "lXIRczRTclmr"
      },
      "source": [
        "Primero necesito agrupar los Usuarios que tengan 1, >10 y > 100 comentarios entre todos los contenidos"
      ]
    },
    {
      "cell_type": "code",
      "execution_count": null,
      "metadata": {
        "id": "9A0bGfWUbLfx"
      },
      "outputs": [],
      "source": [
        "rdd_filtrado = rdd_contenido.map(lambda x: (x.revisor_username, x.revisor_ip, x.revisor_comment))"
      ]
    },
    {
      "cell_type": "markdown",
      "metadata": {
        "id": "Z2qVlyxWh2nB"
      },
      "source": [
        "Veo la cantidad de Articulos sin comentarios para los usarios registrados y sin registrar"
      ]
    },
    {
      "cell_type": "markdown",
      "metadata": {
        "id": "UMWxmJXu2bwE"
      },
      "source": [
        "Para los registrados"
      ]
    },
    {
      "cell_type": "code",
      "execution_count": null,
      "metadata": {
        "id": "LLpefgb7iwyJ"
      },
      "outputs": [],
      "source": [
        "rdd_usuarios_registrados = rdd_filtrado.filter(lambda x: x[0] != None).cache()"
      ]
    },
    {
      "cell_type": "code",
      "execution_count": null,
      "metadata": {
        "id": "Q0QMXugxpYk8"
      },
      "outputs": [],
      "source": [
        "rdd_usuarios_registrados = rdd_usuarios_registrados.map(lambda x: (x[0], x[2]))"
      ]
    },
    {
      "cell_type": "markdown",
      "metadata": {
        "id": "PY5B5K7S6GrU"
      },
      "source": [
        "Con los usuarios no registrados"
      ]
    },
    {
      "cell_type": "code",
      "execution_count": null,
      "metadata": {
        "id": "c3z8n3IAsinY"
      },
      "outputs": [],
      "source": [
        "rdd_usuarios_no_registrados = rdd_filtrado.filter(lambda x: x[1] != None).cache()"
      ]
    },
    {
      "cell_type": "code",
      "execution_count": null,
      "metadata": {
        "id": "BxMMSUTVrWd7"
      },
      "outputs": [],
      "source": [
        "rdd_usuarios_no_registrados = rdd_usuarios_no_registrados.map(lambda x: (x[1], x[2]))"
      ]
    },
    {
      "cell_type": "markdown",
      "metadata": {
        "id": "rn3MYTOnGWw2"
      },
      "source": [
        "Agrupo los usuarios que revisaron un articulo y no comentaron nada\n",
        "\n",
        "\n"
      ]
    },
    {
      "cell_type": "markdown",
      "metadata": {
        "id": "M6-1pWMd-cXd"
      },
      "source": [
        "Primero con los usuarios registrados"
      ]
    },
    {
      "cell_type": "code",
      "execution_count": null,
      "metadata": {
        "id": "HUg37Fvh6oQn"
      },
      "outputs": [],
      "source": [
        "rdd_ur_sin_comentarios = rdd_usuarios_registrados.filter(lambda x: x[1] == None).cache()"
      ]
    },
    {
      "cell_type": "code",
      "execution_count": null,
      "metadata": {
        "id": "DooKCZqA8HQQ"
      },
      "outputs": [],
      "source": [
        "rdd_ur_sin_comentarios = rdd_ur_sin_comentarios.map(lambda x: (x[0], 1))"
      ]
    },
    {
      "cell_type": "code",
      "execution_count": null,
      "metadata": {
        "id": "dmuzznes8-Qn"
      },
      "outputs": [],
      "source": [
        "rdd_ur_sin_comentarios = rdd_ur_sin_comentarios.reduceByKey(lambda x, y: x + y).cache()"
      ]
    },
    {
      "cell_type": "markdown",
      "metadata": {
        "id": "ZnARBcYGGbEJ"
      },
      "source": [
        "Con los no registrados"
      ]
    },
    {
      "cell_type": "code",
      "execution_count": null,
      "metadata": {
        "id": "txZfk7un7vvJ"
      },
      "outputs": [],
      "source": [
        "rdd_unr_sin_comentarios = rdd_usuarios_no_registrados.filter(lambda x: x[1] == None).cache()"
      ]
    },
    {
      "cell_type": "code",
      "execution_count": null,
      "metadata": {
        "id": "B3lhcHX18s_H"
      },
      "outputs": [],
      "source": [
        "rdd_unr_sin_comentarios = rdd_unr_sin_comentarios.map(lambda x: (x[0], 1))"
      ]
    },
    {
      "cell_type": "code",
      "execution_count": null,
      "metadata": {
        "id": "11Mki6NL9JEA"
      },
      "outputs": [],
      "source": [
        "rdd_unr_sin_comentarios = rdd_unr_sin_comentarios.reduceByKey(lambda x, y: x + y).cache()"
      ]
    },
    {
      "cell_type": "markdown",
      "metadata": {
        "id": "ZkD9n_Oa-VN3"
      },
      "source": [
        "Caculo las cantidades por los grupos, en 1 es con los usarios con una revision, 10 con los usuarios con mas de 10 revision y 100 con los usarios con mas de 100 revisiones."
      ]
    },
    {
      "cell_type": "markdown",
      "metadata": {
        "id": "CHvkwwKMGe3B"
      },
      "source": [
        "Con los usuarios registrados (ur)"
      ]
    },
    {
      "cell_type": "code",
      "execution_count": null,
      "metadata": {
        "id": "24Ml9M8ibFpm"
      },
      "outputs": [],
      "source": [
        "cantidad_ur_sin_comentarios_1 = rdd_ur_sin_comentarios.filter(lambda x: x[1] == 1).map(lambda x: x[1]).sum()\n",
        "cantidad_ur_sin_comentarios_10 = rdd_ur_sin_comentarios.filter(lambda x: x[1] > 10).map(lambda x: x[1]).sum()\n",
        "cantidad_ur_sin_comentarios_100 = rdd_ur_sin_comentarios.filter(lambda x: x[1] > 100).map(lambda x: x[1]).sum()"
      ]
    },
    {
      "cell_type": "markdown",
      "metadata": {
        "id": "8-S35mGsHD5h"
      },
      "source": [
        "Con los usuarios no registrados (unr)"
      ]
    },
    {
      "cell_type": "code",
      "execution_count": null,
      "metadata": {
        "id": "4LywAHzRHCo6"
      },
      "outputs": [],
      "source": [
        "cantidad_unr_sin_comentarios_1 = rdd_unr_sin_comentarios.filter(lambda x: x[1] == 1).map(lambda x: x[1]).sum()\n",
        "cantidad_unr_sin_comentarios_10 = rdd_unr_sin_comentarios.filter(lambda x: x[1] > 10).map(lambda x: x[1]).sum()\n",
        "cantidad_unr_sin_comentarios_100 = rdd_unr_sin_comentarios.filter(lambda x: x[1] > 100).map(lambda x: x[1]).sum()"
      ]
    },
    {
      "cell_type": "markdown",
      "metadata": {
        "id": "1CaWQAHyI6FJ"
      },
      "source": [
        "El total de articulos sin comentarios por todos los usuarios en los grupos es la suma de los no registrados con los registrados\n"
      ]
    },
    {
      "cell_type": "code",
      "execution_count": null,
      "metadata": {
        "id": "gWKispBaJA8A"
      },
      "outputs": [],
      "source": [
        " total_articulos_sin_comentarios_1 = cantidad_ur_sin_comentarios_1 + cantidad_unr_sin_comentarios_1\n",
        " total_articulos_sin_comentarios_10 = cantidad_ur_sin_comentarios_10 + cantidad_unr_sin_comentarios_10\n",
        " total_articulos_sin_comentarios_100 = cantidad_ur_sin_comentarios_100 + cantidad_unr_sin_comentarios_100"
      ]
    },
    {
      "cell_type": "markdown",
      "metadata": {
        "id": "M9NIKeTV_94g"
      },
      "source": [
        "Tengo las cantidades de los articulos sin comentarios en cada subgrupo, veo que pasa con los usarios registrados y no resgistrados y veo cuantos comentaron."
      ]
    },
    {
      "cell_type": "code",
      "execution_count": null,
      "metadata": {
        "id": "eNxnQHjZAHR8"
      },
      "outputs": [],
      "source": [
        "rdd_ur_comentaron = rdd_usuarios_registrados.map(lambda x: (x[0], 1)).reduceByKey(lambda x, y: x + y)"
      ]
    },
    {
      "cell_type": "code",
      "execution_count": null,
      "metadata": {
        "id": "nYgCJZL1AoPq"
      },
      "outputs": [],
      "source": [
        "rdd_unr_comentaron = rdd_usuarios_no_registrados.map(lambda x: (x[0], 1)).reduceByKey(lambda x, y: x + y)"
      ]
    },
    {
      "cell_type": "markdown",
      "metadata": {
        "id": "rJ-T6-5GB-sZ"
      },
      "source": [
        "Creo todos los sub grupos"
      ]
    },
    {
      "cell_type": "code",
      "execution_count": null,
      "metadata": {
        "id": "BGrR7_4eYMu7"
      },
      "outputs": [],
      "source": [
        "cantidad_comentarios_ur_comentaron_1 = rdd_ur_comentaron.filter(lambda x: x[1] == 1).map(lambda x: x[1]).sum()\n",
        "cantidad_comentarios_ur_comentaron_10 = rdd_ur_comentaron.filter(lambda x: x[1] > 10).map(lambda x: x[1]).sum()\n",
        "cantidad_comentarios_ur_comentaron_100 = rdd_ur_comentaron.filter(lambda x: x[1] > 100).map(lambda x: x[1]).sum()"
      ]
    },
    {
      "cell_type": "code",
      "execution_count": null,
      "metadata": {
        "id": "QSRPgw_eYUT-"
      },
      "outputs": [],
      "source": [
        "cantidad_comentarios_unr_comentaron_1 = rdd_unr_comentaron.filter(lambda x: x[1] == 1).map(lambda x: x[1]).sum()\n",
        "cantidad_comentarios_unr_comentaron_10 = rdd_unr_comentaron.filter(lambda x: x[1] > 10).map(lambda x: x[1]).sum()\n",
        "cantidad_comentarios_unr_comentaron_100 = rdd_unr_comentaron.filter(lambda x: x[1] > 100).map(lambda x: x[1]).sum()"
      ]
    },
    {
      "cell_type": "markdown",
      "metadata": {
        "id": "48CvDVhIMiEY"
      },
      "source": [
        "Veo las cantidad total de comentarios para cada grupo"
      ]
    },
    {
      "cell_type": "code",
      "execution_count": null,
      "metadata": {
        "id": "mQycRg0ANWvY"
      },
      "outputs": [],
      "source": [
        "cantidad_comentarios_1 = cantidad_comentarios_ur_comentaron_1 + cantidad_comentarios_unr_comentaron_1"
      ]
    },
    {
      "cell_type": "code",
      "execution_count": null,
      "metadata": {
        "id": "GIJGhThiNeRw"
      },
      "outputs": [],
      "source": [
        "cantidad_comentarios_10 = cantidad_comentarios_ur_comentaron_10 + cantidad_comentarios_unr_comentaron_10"
      ]
    },
    {
      "cell_type": "code",
      "execution_count": null,
      "metadata": {
        "id": "qm981T3vNivY"
      },
      "outputs": [],
      "source": [
        "cantidad_comentarios_100 = cantidad_comentarios_ur_comentaron_100 + cantidad_comentarios_unr_comentaron_100"
      ]
    },
    {
      "cell_type": "markdown",
      "metadata": {
        "id": "iRKRZK3PDtvA"
      },
      "source": [
        "Calculo los porcentajes pedidos para cada grupo"
      ]
    },
    {
      "cell_type": "code",
      "execution_count": null,
      "metadata": {
        "id": "xrhDUuJdDpeY"
      },
      "outputs": [],
      "source": [
        "porcentaje_1 = 100*(total_articulos_sin_comentarios_1/cantidad_comentarios_1)"
      ]
    },
    {
      "cell_type": "code",
      "execution_count": null,
      "metadata": {
        "id": "gDZtYMpWDxH3"
      },
      "outputs": [],
      "source": [
        "porcentaje_10 = 100*(total_articulos_sin_comentarios_10)/(cantidad_comentarios_10)"
      ]
    },
    {
      "cell_type": "code",
      "execution_count": null,
      "metadata": {
        "id": "Vht71_xvEFlf"
      },
      "outputs": [],
      "source": [
        "porcentaje_100 = 100*(total_articulos_sin_comentarios_100)/(cantidad_comentarios_100)"
      ]
    },
    {
      "cell_type": "code",
      "execution_count": null,
      "metadata": {
        "colab": {
          "base_uri": "https://localhost:8080/"
        },
        "id": "lDs9NTWkEkrY",
        "outputId": "f26457a8-6bd0-4c83-daf2-4a118de96aa0"
      },
      "outputs": [
        {
          "data": {
            "text/plain": [
              "40.43636300241455"
            ]
          },
          "execution_count": 30,
          "metadata": {},
          "output_type": "execute_result"
        }
      ],
      "source": [
        "porcentaje_1"
      ]
    },
    {
      "cell_type": "code",
      "execution_count": null,
      "metadata": {
        "colab": {
          "base_uri": "https://localhost:8080/"
        },
        "id": "Vt2IqU-1Emom",
        "outputId": "1bcfb15f-fdca-4bac-aff2-61ed64df7eb1"
      },
      "outputs": [
        {
          "data": {
            "text/plain": [
              "9.830704298834851"
            ]
          },
          "execution_count": 31,
          "metadata": {},
          "output_type": "execute_result"
        }
      ],
      "source": [
        "porcentaje_10"
      ]
    },
    {
      "cell_type": "code",
      "execution_count": null,
      "metadata": {
        "colab": {
          "base_uri": "https://localhost:8080/"
        },
        "id": "_znU_qQ1Oa_g",
        "outputId": "3dc07382-b136-4d81-fca0-94c59779c270"
      },
      "outputs": [
        {
          "data": {
            "text/plain": [
              "8.417951820682088"
            ]
          },
          "execution_count": 32,
          "metadata": {},
          "output_type": "execute_result"
        }
      ],
      "source": [
        "porcentaje_100"
      ]
    },
    {
      "cell_type": "markdown",
      "metadata": {
        "id": "5vvFuhzFmx4v"
      },
      "source": [
        "En mi caso, yo considere tanto a los usarios registrados como los no registrados ya que no se hace mencion en el enunciado de trabajar con algunos de los dos tipos de usuarios."
      ]
    },
    {
      "cell_type": "code",
      "execution_count": null,
      "metadata": {
        "id": "X5s_2f9vnYfX"
      },
      "outputs": [],
      "source": []
    }
  ],
  "metadata": {
    "colab": {
      "provenance": []
    },
    "kernelspec": {
      "display_name": "Python 3",
      "name": "python3"
    },
    "language_info": {
      "name": "python"
    }
  },
  "nbformat": 4,
  "nbformat_minor": 0
}