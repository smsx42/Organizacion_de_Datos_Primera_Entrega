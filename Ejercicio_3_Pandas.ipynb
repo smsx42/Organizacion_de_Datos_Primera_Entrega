{
  "nbformat": 4,
  "nbformat_minor": 0,
  "metadata": {
    "colab": {
      "provenance": []
    },
    "kernelspec": {
      "name": "python3",
      "display_name": "Python 3"
    },
    "language_info": {
      "name": "python"
    }
  },
  "cells": [
    {
      "cell_type": "markdown",
      "source": [
        "La antigüedad promedio de la última edición de los artículos cuyo título contenga tu apellido (si no hay, tu nombre y si tampoco hay usa Cafferata) (⭐⭐)"
      ],
      "metadata": {
        "id": "kFqktfAJfkkS"
      }
    },
    {
      "cell_type": "code",
      "execution_count": null,
      "metadata": {
        "id": "E4mY49lkCRfl"
      },
      "outputs": [],
      "source": [
        "import pandas as pd\n",
        "from datetime import datetime\n",
        "import datetime as dt"
      ]
    },
    {
      "cell_type": "code",
      "source": [
        "from google.colab import drive\n",
        "drive.mount('/content/drive')"
      ],
      "metadata": {
        "colab": {
          "base_uri": "https://localhost:8080/"
        },
        "id": "BqjITQD1bdPQ",
        "outputId": "5d9fc8b8-b583-4306-f402-e49486489b2d"
      },
      "execution_count": null,
      "outputs": [
        {
          "output_type": "stream",
          "name": "stdout",
          "text": [
            "Mounted at /content/drive\n"
          ]
        }
      ]
    },
    {
      "cell_type": "code",
      "source": [
        "contenido = pd.read_csv('/content/drive/MyDrive/contents.csv')"
      ],
      "metadata": {
        "id": "o-Db3FyPCWBY"
      },
      "execution_count": null,
      "outputs": []
    },
    {
      "cell_type": "markdown",
      "source": [
        "Elimino las columnas que se que no voy a usar."
      ],
      "metadata": {
        "id": "EQcq2aF4R6HU"
      }
    },
    {
      "cell_type": "code",
      "source": [
        "contenido = contenido.drop(\"revisor_comment\", axis=1)\n",
        "contenido = contenido.drop(\"revisor_ip\", axis=1)\n",
        "contenido = contenido.drop(\"revisor_id\", axis=1)\n",
        "contenido = contenido.drop(\"revisor_username\", axis=1)\n",
        "contenido = contenido.drop(\"parent_revision\", axis=1)\n",
        "contenido = contenido.drop(\"id\", axis=1)\n",
        "contenido = contenido.drop(\"namespace\", axis=1)\n",
        "contenido = contenido.drop(\"revision_id\", axis=1)"
      ],
      "metadata": {
        "id": "8Ptl81chfU6c"
      },
      "execution_count": null,
      "outputs": []
    },
    {
      "cell_type": "markdown",
      "source": [
        "Transformo todos los NaN de title."
      ],
      "metadata": {
        "id": "MLqRsAnGiZxP"
      }
    },
    {
      "cell_type": "code",
      "source": [
        "contenido.title = contenido.title.fillna(\"Indef\")"
      ],
      "metadata": {
        "id": "eZalf1D-hbkh"
      },
      "execution_count": null,
      "outputs": []
    },
    {
      "cell_type": "markdown",
      "source": [
        "Pongo en minuscula todas las filas de title."
      ],
      "metadata": {
        "id": "_PNaM6OASRsq"
      }
    },
    {
      "cell_type": "code",
      "source": [
        "contenido.title = contenido.title.map(lambda fila: fila.lower())"
      ],
      "metadata": {
        "id": "ZxPrkkBPjYqL"
      },
      "execution_count": null,
      "outputs": []
    },
    {
      "cell_type": "markdown",
      "source": [
        "Elimino el caracter para trabajr en un formato valido el tiempo en No_Iso."
      ],
      "metadata": {
        "id": "-Gc1IDcHSaLo"
      }
    },
    {
      "cell_type": "code",
      "source": [
        "contenido.revision_timestamp = contenido.revision_timestamp.replace({'Z':''}, regex=True)"
      ],
      "metadata": {
        "id": "pubBIRbjH12R"
      },
      "execution_count": null,
      "outputs": []
    },
    {
      "cell_type": "code",
      "source": [
        "contenido[\"No_Iso\"] = contenido.revision_timestamp.map(lambda fila: datetime.fromisoformat(fila))"
      ],
      "metadata": {
        "id": "jE1BMqWwITKj"
      },
      "execution_count": null,
      "outputs": []
    },
    {
      "cell_type": "markdown",
      "source": [
        "Creo un data set con la cadena \"santiago\" que aparezcan en title. Uso mi nombre ya que mi apellido aparece una vez."
      ],
      "metadata": {
        "id": "ImgDO28RSta_"
      }
    },
    {
      "cell_type": "code",
      "source": [
        "agrupados_nombre = contenido[contenido.title.str.contains(\"santiago\")]"
      ],
      "metadata": {
        "id": "Lw7fBtdfJGK4"
      },
      "execution_count": null,
      "outputs": []
    },
    {
      "cell_type": "code",
      "source": [
        "agrupados_nombre = agrupados_nombre.reset_index()"
      ],
      "metadata": {
        "id": "M2zo9NYEJh34"
      },
      "execution_count": null,
      "outputs": []
    },
    {
      "cell_type": "code",
      "source": [
        "agrupados_nombre = agrupados_nombre.drop(\"index\", axis=1)"
      ],
      "metadata": {
        "id": "W1Fc6vRHKGsX"
      },
      "execution_count": null,
      "outputs": []
    },
    {
      "cell_type": "markdown",
      "source": [
        "Veo cual es el tiempo actual y lo paso a formato datetime, luego veo la antiguedad de los tiempo de edicion."
      ],
      "metadata": {
        "id": "aUirFBQqTYCS"
      }
    },
    {
      "cell_type": "code",
      "source": [
        "tiempo_actual = datetime.now()"
      ],
      "metadata": {
        "id": "IdDIvxHYtqJ4"
      },
      "execution_count": null,
      "outputs": []
    },
    {
      "cell_type": "code",
      "source": [
        "tiempo_actual = datetime(datetime.now().year, datetime.now().month, datetime.now().day, datetime.now().hour, datetime.now().minute, datetime.now().second)"
      ],
      "metadata": {
        "id": "KfSVxuZNbEp4"
      },
      "execution_count": null,
      "outputs": []
    },
    {
      "cell_type": "code",
      "source": [
        "agrupados_nombre[\"Antiguedad\"] = tiempo_actual - agrupados_nombre.No_Iso"
      ],
      "metadata": {
        "id": "xCTTn9RTc9mU"
      },
      "execution_count": null,
      "outputs": []
    },
    {
      "cell_type": "markdown",
      "source": [
        "Veo cual es la antiguedad promedio de todos loas arituclos que contienen \"santiago\"."
      ],
      "metadata": {
        "id": "6aMWcAOnUgQI"
      }
    },
    {
      "cell_type": "code",
      "source": [
        "antiguedad_promedio = agrupados_nombre.Antiguedad.mean()"
      ],
      "metadata": {
        "id": "FhOShObgdbBf"
      },
      "execution_count": null,
      "outputs": []
    },
    {
      "cell_type": "code",
      "source": [
        "antiguedad_promedio"
      ],
      "metadata": {
        "colab": {
          "base_uri": "https://localhost:8080/"
        },
        "id": "TVqFQB4Hdimf",
        "outputId": "5cc69a84-7a48-45cb-f7a8-6f1444142869"
      },
      "execution_count": null,
      "outputs": [
        {
          "output_type": "execute_result",
          "data": {
            "text/plain": [
              "Timedelta('2333 days 13:08:27.297735168')"
            ]
          },
          "metadata": {},
          "execution_count": 16
        }
      ]
    }
  ]
}