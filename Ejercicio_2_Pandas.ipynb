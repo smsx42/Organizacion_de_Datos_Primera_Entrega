{
  "nbformat": 4,
  "nbformat_minor": 0,
  "metadata": {
    "colab": {
      "provenance": []
    },
    "kernelspec": {
      "name": "python3",
      "display_name": "Python 3"
    },
    "language_info": {
      "name": "python"
    }
  },
  "cells": [
    {
      "cell_type": "markdown",
      "source": [
        "¿Cuál es el segundo contenido con más referencias geográficas asignadas? (⭐⭐)"
      ],
      "metadata": {
        "id": "-l0PXpqORdAC"
      }
    },
    {
      "cell_type": "code",
      "source": [
        "import pandas as pd\n",
        "import numpy as np"
      ],
      "metadata": {
        "id": "0rsXfxll73OK"
      },
      "execution_count": null,
      "outputs": []
    },
    {
      "cell_type": "code",
      "source": [
        "datos_geograficos = pd.read_csv(\"/content/drive/MyDrive/geo_tags.csv\")"
      ],
      "metadata": {
        "id": "a3_wVc89TwtG"
      },
      "execution_count": null,
      "outputs": []
    },
    {
      "cell_type": "markdown",
      "source": [
        "Elimino las columnas que se que no voy a usar."
      ],
      "metadata": {
        "id": "KLz6LsSVOTry"
      }
    },
    {
      "cell_type": "code",
      "source": [
        "datos_geograficos = datos_geograficos.drop(\"gt_globe\", axis=1)\n",
        "datos_geograficos = datos_geograficos.drop(\"gt_primary\", axis=1)\n",
        "datos_geograficos = datos_geograficos.drop(\"gt_dim\", axis=1)\n",
        "datos_geograficos = datos_geograficos.drop(\"gt_type\", axis=1)\n",
        "datos_geograficos = datos_geograficos.drop(\"gt_name\", axis=1)\n",
        "datos_geograficos = datos_geograficos.drop(\"gt_country\", axis=1)\n",
        "datos_geograficos = datos_geograficos.drop(\"gt_region\", axis=1)\n",
        "datos_geograficos = datos_geograficos.drop(\"gt_lat\", axis=1)\n",
        "datos_geograficos = datos_geograficos.drop(\"gt_lon\", axis=1)"
      ],
      "metadata": {
        "id": "fqK4ZZgnpFBt"
      },
      "execution_count": null,
      "outputs": []
    },
    {
      "cell_type": "markdown",
      "source": [
        "gt_lon y gt_lan las elimino porque cada contenido de por si tiene una referencia geografica asignada, no aportan nada en este caso"
      ],
      "metadata": {
        "id": "vJpz4E8DB1-a"
      }
    },
    {
      "cell_type": "markdown",
      "source": [
        "Agrupo por gt_page_id las ids, para ver cuantas asignaciones tiene cada gt_page_id"
      ],
      "metadata": {
        "id": "18D73SzH_R_V"
      }
    },
    {
      "cell_type": "code",
      "source": [
        "agrupados_gt_page_id = datos_geograficos.groupby([\"gt_page_id\"])"
      ],
      "metadata": {
        "id": "vEpJ1VfqmKLw"
      },
      "execution_count": null,
      "outputs": []
    },
    {
      "cell_type": "code",
      "source": [
        "agrupados_gt_page_id = agrupados_gt_page_id.agg({\"gt_id\":\"count\"})"
      ],
      "metadata": {
        "id": "zfPDvGmTocPP"
      },
      "execution_count": null,
      "outputs": []
    },
    {
      "cell_type": "code",
      "source": [
        "agrupados_gt_page_id = agrupados_gt_page_id.rename(columns = {\"gt_id\": \"cantidad_coordenadas\"})"
      ],
      "metadata": {
        "id": "bLqMEFdfIjvP"
      },
      "execution_count": null,
      "outputs": []
    },
    {
      "cell_type": "code",
      "source": [
        "agrupados_gt_page_id = agrupados_gt_page_id.reset_index()"
      ],
      "metadata": {
        "id": "QlTMhtaEo62M"
      },
      "execution_count": null,
      "outputs": []
    },
    {
      "cell_type": "markdown",
      "source": [
        "Veo cuales son los cotenidos con mas referencias geograficas asignadas."
      ],
      "metadata": {
        "id": "D_yktMR_4Pvc"
      }
    },
    {
      "cell_type": "code",
      "source": [
        "agrupados_gt_page_id =  agrupados_gt_page_id.nlargest(2, 'cantidad_coordenadas', keep = \"all\")"
      ],
      "metadata": {
        "id": "_DHAUGGq4a-_"
      },
      "execution_count": null,
      "outputs": []
    },
    {
      "cell_type": "markdown",
      "source": [
        "Obtengo la cantidad maxima de coordenadas asignadas a una gt_page_id."
      ],
      "metadata": {
        "id": "2WeCz7_UFIo_"
      }
    },
    {
      "cell_type": "code",
      "source": [
        "cantidad_maxima_coordenadas = agrupados_gt_page_id.cantidad_coordenadas.max()"
      ],
      "metadata": {
        "id": "GsNMjiytEAzn"
      },
      "execution_count": null,
      "outputs": []
    },
    {
      "cell_type": "markdown",
      "source": [
        "Veo cual/cuales el segundo contenido con mas referencias asignadas, en donde el contenido es el gt_page_id."
      ],
      "metadata": {
        "id": "R7FVozSSFWZ3"
      }
    },
    {
      "cell_type": "code",
      "source": [
        "agrupados_gt_page_id[agrupados_gt_page_id.cantidad_coordenadas != cantidad_maxima_coordenadas].gt_page_id"
      ],
      "metadata": {
        "colab": {
          "base_uri": "https://localhost:8080/"
        },
        "id": "LWoBq8PbDsmn",
        "outputId": "b98e4840-6b52-4375-e8e0-aca008ecfe30"
      },
      "execution_count": null,
      "outputs": [
        {
          "output_type": "execute_result",
          "data": {
            "text/plain": [
              "278172    7421943\n",
              "Name: gt_page_id, dtype: int64"
            ]
          },
          "metadata": {},
          "execution_count": 10
        }
      ]
    },
    {
      "cell_type": "code",
      "source": [],
      "metadata": {
        "id": "GZunHXRp9dRx"
      },
      "execution_count": null,
      "outputs": []
    }
  ]
}